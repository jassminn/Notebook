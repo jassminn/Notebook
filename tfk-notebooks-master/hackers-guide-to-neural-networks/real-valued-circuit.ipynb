{
 "cells": [
  {
   "cell_type": "code",
   "execution_count": 1,
   "metadata": {
    "collapsed": false
   },
   "outputs": [
    {
     "name": "stdout",
     "output_type": "stream",
     "text": [
      "Using matplotlib backend: MacOSX\n",
      "Populating the interactive namespace from numpy and matplotlib\n",
      "2016-09-13T20:19:31\n",
      "\n",
      "CPython 3.5.2\n",
      "IPython 5.0.0\n",
      "\n",
      "compiler   : GCC 4.2.1 Compatible Apple LLVM 4.2 (clang-425.0.28)\n",
      "system     : Darwin\n",
      "release    : 15.6.0\n",
      "machine    : x86_64\n",
      "processor  : i386\n",
      "CPU cores  : 8\n",
      "interpreter: 64bit\n"
     ]
    }
   ],
   "source": [
    "%pylab\n",
    "%load_ext watermark\n",
    "%watermark"
   ]
  },
  {
   "cell_type": "markdown",
   "metadata": {},
   "source": [
    "### 기본적인 구조: 하나의 게이트로 된 회로"
   ]
  },
  {
   "cell_type": "code",
   "execution_count": 2,
   "metadata": {
    "collapsed": false
   },
   "outputs": [
    {
     "data": {
      "text/plain": [
       "-6"
      ]
     },
     "execution_count": 2,
     "metadata": {},
     "output_type": "execute_result"
    }
   ],
   "source": [
    "def forward_multiply_gate(x, y):\n",
    "    return x * y\n",
    "\n",
    "x = -2\n",
    "y = 3\n",
    "forward_multiply_gate(x, y) # -6 이 리턴됨"
   ]
  },
  {
   "cell_type": "markdown",
   "metadata": {},
   "source": [
    "#### 무작위 지역 탐색"
   ]
  },
  {
   "cell_type": "markdown",
   "metadata": {},
   "source": [
    "x, y 를 랜덤하게 조금씩 변경하면서 가장 좋은 출력을 내는 값을 추적합니다"
   ]
  },
  {
   "cell_type": "code",
   "execution_count": 3,
   "metadata": {
    "collapsed": false
   },
   "outputs": [
    {
     "data": {
      "text/plain": [
       "(-1.992011587466079, 2.990067201508147, -5.9562485127065)"
      ]
     },
     "execution_count": 3,
     "metadata": {},
     "output_type": "execute_result"
    }
   ],
   "source": [
    "tweak_amount = 0.01\n",
    "best_out = -np.inf\n",
    "best_x = x\n",
    "best_y = y\n",
    "for k in range(100):\n",
    "    x_try = x + tweak_amount * (np.random.random() * 2 - 1) # x 를 조금 변경\n",
    "    y_try = y + tweak_amount * (np.random.random() * 2 - 1) # y 를 조금 변경\n",
    "    out = forward_multiply_gate(x_try, y_try)\n",
    "    # 현재까지 최고 값 보다 좋은 경우 이를 새로운 최고 값으로 저장합니다\n",
    "    if out > best_out:\n",
    "        best_out = out\n",
    "        best_x = x_try\n",
    "        best_y = y_try\n",
    "best_x, best_y, best_out"
   ]
  },
  {
   "cell_type": "markdown",
   "metadata": {},
   "source": [
    "#### 계산 기울기"
   ]
  },
  {
   "cell_type": "code",
   "execution_count": 4,
   "metadata": {
    "collapsed": false
   },
   "outputs": [
    {
     "name": "stdout",
     "output_type": "stream",
     "text": [
      "3.000000000064062 -2.0000000000131024\n",
      "-5.870599999997832\n"
     ]
    }
   ],
   "source": [
    "out = forward_multiply_gate(x, y)\n",
    "h = 0.00001\n",
    "\n",
    "# x 에 대한 변화율을 계산\n",
    "xph = x + h\n",
    "out2 = forward_multiply_gate(xph, y)\n",
    "x_derivative = (out2 - out) / h\n",
    "\n",
    "# y 에 대한 변화율을 계산\n",
    "yph = y + h\n",
    "out3 = forward_multiply_gate(x, yph)\n",
    "y_derivative = (out3 - out) / h\n",
    "\n",
    "print(x_derivative, y_derivative)\n",
    "\n",
    "step_size = 0.01\n",
    "out = forward_multiply_gate(x, y)\n",
    "x_new = x + step_size * x_derivative\n",
    "y_new = y + step_size * y_derivative\n",
    "out_new = forward_multiply_gate(x_new, y_new)\n",
    "print(out_new)"
   ]
  },
  {
   "cell_type": "markdown",
   "metadata": {},
   "source": [
    "#### 공식 기울기"
   ]
  },
  {
   "cell_type": "code",
   "execution_count": 5,
   "metadata": {
    "collapsed": false
   },
   "outputs": [
    {
     "data": {
      "text/plain": [
       "-5.8706"
      ]
     },
     "execution_count": 5,
     "metadata": {},
     "output_type": "execute_result"
    }
   ],
   "source": [
    "x_gradient = y # 수학 공식에 의해\n",
    "y_gradient = x\n",
    "\n",
    "x_new2 = x + step_size * x_gradient\n",
    "y_new2 = y + step_size * y_gradient\n",
    "forward_multiply_gate(x_new2, y_new2)"
   ]
  },
  {
   "cell_type": "markdown",
   "metadata": {},
   "source": [
    "### 중첩된 구조"
   ]
  },
  {
   "cell_type": "code",
   "execution_count": 6,
   "metadata": {
    "collapsed": true
   },
   "outputs": [],
   "source": [
    "# 덧셈 게이트\n",
    "def forward_add_gate(a, b):\n",
    "    return a + b\n",
    "\n",
    "# 전체 회로\n",
    "def forward_circuit(x, y, z):\n",
    "    q = forward_add_gate(x, y)\n",
    "    f = forward_multiply_gate(q, z)\n",
    "    return f"
   ]
  },
  {
   "cell_type": "code",
   "execution_count": 7,
   "metadata": {
    "collapsed": false
   },
   "outputs": [
    {
     "data": {
      "text/plain": [
       "-12"
      ]
     },
     "execution_count": 7,
     "metadata": {},
     "output_type": "execute_result"
    }
   ],
   "source": [
    "x = -2\n",
    "y = 5\n",
    "z = -4\n",
    "forward_circuit(x, y, z)"
   ]
  },
  {
   "cell_type": "markdown",
   "metadata": {},
   "source": [
    "#### 역전파"
   ]
  },
  {
   "cell_type": "code",
   "execution_count": 8,
   "metadata": {
    "collapsed": false
   },
   "outputs": [
    {
     "name": "stdout",
     "output_type": "stream",
     "text": [
      "3 -4\n",
      "-4.0 -4.0\n"
     ]
    }
   ],
   "source": [
    "q = forward_add_gate(x, y)\n",
    "f = forward_multiply_gate(q, z)\n",
    "\n",
    "# 입력에 대한 곱셈 게이트의 기울기\n",
    "derivative_f_wrt_z = q\n",
    "derivative_f_wrt_q = z\n",
    "print(derivative_f_wrt_z, derivative_f_wrt_q)\n",
    "\n",
    "# 입력에 대한 덧셈 게이트의 기울기\n",
    "derivative_q_wrt_x = 1.0\n",
    "derivative_q_wrt_y = 1.0\n",
    "\n",
    "# 체인 룰\n",
    "derivative_f_wrt_x = derivative_q_wrt_x * derivative_f_wrt_q\n",
    "derivative_f_wrt_y = derivative_q_wrt_y * derivative_f_wrt_q\n",
    "print(derivative_f_wrt_x, derivative_f_wrt_y)"
   ]
  },
  {
   "cell_type": "code",
   "execution_count": 9,
   "metadata": {
    "collapsed": false
   },
   "outputs": [
    {
     "name": "stdout",
     "output_type": "stream",
     "text": [
      "2.92 -11.5924\n"
     ]
    }
   ],
   "source": [
    "# 포스에 맞춰 입력을 조정합니다.\n",
    "x_new3 = x + step_size * derivative_f_wrt_x\n",
    "y_new3 = y + step_size * derivative_f_wrt_y\n",
    "z_new3 = z + step_size * derivative_f_wrt_z\n",
    "\n",
    "# 회로가 더 높은 값을 출력합니다.\n",
    "q = forward_add_gate(x_new3, y_new3)\n",
    "f = forward_multiply_gate(q, z_new3)\n",
    "print(q, f)"
   ]
  },
  {
   "cell_type": "markdown",
   "metadata": {},
   "source": [
    "#### 계산 기울기로 체크"
   ]
  },
  {
   "cell_type": "code",
   "execution_count": 10,
   "metadata": {
    "collapsed": false
   },
   "outputs": [
    {
     "data": {
      "text/plain": [
       "(-4.000000000026205, -3.9999999998485687, 3.000000000064062)"
      ]
     },
     "execution_count": 10,
     "metadata": {},
     "output_type": "execute_result"
    }
   ],
   "source": [
    "x_derivative = (forward_circuit(x + h, y, z) - forward_circuit(x, y, z)) / h\n",
    "y_derivative = (forward_circuit(x, y + h, z) - forward_circuit(x, y, z)) / h\n",
    "z_derivative = (forward_circuit(x, y, z + h) - forward_circuit(x, y, z)) / h\n",
    "x_derivative, y_derivative, z_derivative"
   ]
  },
  {
   "cell_type": "markdown",
   "metadata": {},
   "source": [
    "#### 단일 뉴런"
   ]
  },
  {
   "cell_type": "markdown",
   "metadata": {},
   "source": [
    "Unit은 회로 그림의 선에 대응합니다"
   ]
  },
  {
   "cell_type": "code",
   "execution_count": 11,
   "metadata": {
    "collapsed": false
   },
   "outputs": [],
   "source": [
    "class Unit(object):\n",
    "    \n",
    "    def __init__(self, value, grad):\n",
    "        # 정방향에서 계산되는 값\n",
    "        self.value = value\n",
    "        # 역방향일 때 계산되는 이 유닛에 대한 회로 출력의 변화율\n",
    "        self.grad = grad"
   ]
  },
  {
   "cell_type": "code",
   "execution_count": 12,
   "metadata": {
    "collapsed": false
   },
   "outputs": [],
   "source": [
    "class MultiplyGate(object):\n",
    "    \n",
    "    def forward(self, u0, u1):\n",
    "        self.u0 = u0\n",
    "        self.u1 = u1\n",
    "        self.utop = Unit(self.u0.value * self.u1.value, 0.0)\n",
    "        return self.utop\n",
    "    \n",
    "    def backward(self):\n",
    "        # 출력 유닛의 기울기를 받아 곱셉 게이트의 자체 기울기와 곱하여(체인 룰) 입력 유닛의 기울기로 저장합니다.\n",
    "        self.u0.grad += self.u1.value * self.utop.grad\n",
    "        self.u1.grad += self.u0.value * self.utop.grad\n",
    "        \n",
    "        \n",
    "class AddGate(object):\n",
    "    \n",
    "    def forward(self, u0, u1):\n",
    "        self.u0 = u0\n",
    "        self.u1 = u1\n",
    "        self.utop = Unit(self.u0.value + self.u1.value, 0.0)\n",
    "        return self.utop\n",
    "\n",
    "    def backward(self):\n",
    "        # 입력에 대한 덧셈 게이트의 기울기는 1 입니다\n",
    "        self.u0.grad += 1 * self.utop.grad\n",
    "        self.u1.grad += 1 * self.utop.grad\n",
    "\n",
    "        \n",
    "class SigmoidGate(object):\n",
    "    \n",
    "    def sigmoid(self, x):\n",
    "        return 1 / (1 + np.exp(-x))\n",
    "    \n",
    "    def forward(self, u0):\n",
    "        self.u0 = u0\n",
    "        self.utop = Unit(self.sigmoid(self.u0.value), 0.0)\n",
    "        return self.utop\n",
    "\n",
    "    def backward(self):\n",
    "        s = self.sigmoid(self.u0.value)\n",
    "        self.u0.grad += (s * (1 - s)) * self.utop.grad"
   ]
  },
  {
   "cell_type": "code",
   "execution_count": 13,
   "metadata": {
    "collapsed": false
   },
   "outputs": [
    {
     "data": {
      "text/plain": [
       "0.88079707797788231"
      ]
     },
     "execution_count": 13,
     "metadata": {},
     "output_type": "execute_result"
    }
   ],
   "source": [
    "# 입력 유닛 생성\n",
    "a = Unit(1.0, 0.0)\n",
    "b = Unit(2.0, 0.0)\n",
    "c = Unit(-3.0, 0.0)\n",
    "x = Unit(-1.0, 0.0)\n",
    "y = Unit(3.0, 0.0)\n",
    "\n",
    "# 게이트 생성\n",
    "mulg0 = MultiplyGate()\n",
    "mulg1 = MultiplyGate()\n",
    "addg0 = AddGate()\n",
    "addg1 = AddGate()\n",
    "sg0 = SigmoidGate()\n",
    "\n",
    "# 정방향 계산\n",
    "def forward_neuron():\n",
    "    ax = mulg0.forward(a, x)\n",
    "    by = mulg1.forward(b, y)\n",
    "    axpby = addg0.forward(ax, by)\n",
    "    axpbypc = addg1.forward(axpby, c)\n",
    "    s = sg0.forward(axpbypc)\n",
    "    return s\n",
    "\n",
    "s = forward_neuron()\n",
    "\n",
    "s.value"
   ]
  },
  {
   "cell_type": "code",
   "execution_count": 14,
   "metadata": {
    "collapsed": true
   },
   "outputs": [],
   "source": [
    "s.grad = 1.0\n",
    "sg0.backward() # axpbypc 에 기울기 저장\n",
    "addg1.backward() # axpby 와 c 에 기울기 저장\n",
    "addg0.backward() # ax 와 by 에 기울기 저장\n",
    "mulg1.backward() # b 와 y 에 기울기 저장\n",
    "mulg0.backward() # a 와 x 에 기울기 저장"
   ]
  },
  {
   "cell_type": "code",
   "execution_count": 15,
   "metadata": {
    "collapsed": false
   },
   "outputs": [
    {
     "name": "stdout",
     "output_type": "stream",
     "text": [
      "-0.104993585404 0.314980756211 0.104993585404 0.104993585404 0.209987170807\n"
     ]
    },
    {
     "data": {
      "text/plain": [
       "0.88079707797788231"
      ]
     },
     "execution_count": 15,
     "metadata": {},
     "output_type": "execute_result"
    }
   ],
   "source": [
    "a.value += step_size * a.grad\n",
    "b.value += step_size * b.grad\n",
    "c.value += step_size * c.grad\n",
    "x.value += step_size * x.grad\n",
    "y.value += step_size * y.grad\n",
    "\n",
    "forward_neuron()\n",
    "\n",
    "print(a.grad, b.grad, c.grad, x.grad, y.grad)\n",
    "s.value"
   ]
  },
  {
   "cell_type": "markdown",
   "metadata": {},
   "source": [
    "#### 기울기 확인"
   ]
  },
  {
   "cell_type": "code",
   "execution_count": 16,
   "metadata": {
    "collapsed": false
   },
   "outputs": [
    {
     "name": "stdout",
     "output_type": "stream",
     "text": [
      "-0.104993985206 0.314977157934 0.104993185601 0.104993185601 0.209985571575\n"
     ]
    }
   ],
   "source": [
    "def forward_circuit_fast(a,b,c,x,y):\n",
    "    return 1/(1 + np.exp( - (a*x + b*y + c)))\n",
    "\n",
    "a = 1\n",
    "b = 2\n",
    "c = -3\n",
    "x = -1\n",
    "y = 3;\n",
    "\n",
    "a_grad = (forward_circuit_fast(a+h,b,c,x,y) - forward_circuit_fast(a,b,c,x,y))/h;\n",
    "b_grad = (forward_circuit_fast(a,b+h,c,x,y) - forward_circuit_fast(a,b,c,x,y))/h;\n",
    "c_grad = (forward_circuit_fast(a,b,c+h,x,y) - forward_circuit_fast(a,b,c,x,y))/h;\n",
    "x_grad = (forward_circuit_fast(a,b,c,x+h,y) - forward_circuit_fast(a,b,c,x,y))/h;\n",
    "y_grad = (forward_circuit_fast(a,b,c,x,y+h) - forward_circuit_fast(a,b,c,x,y))/h;\n",
    "print(a_grad, b_grad, c_grad, x_grad, y_grad)"
   ]
  },
  {
   "cell_type": "code",
   "execution_count": null,
   "metadata": {
    "collapsed": true
   },
   "outputs": [],
   "source": []
  }
 ],
 "metadata": {
  "kernelspec": {
   "display_name": "Python 3",
   "language": "python",
   "name": "python3"
  },
  "language_info": {
   "codemirror_mode": {
    "name": "ipython",
    "version": 3
   },
   "file_extension": ".py",
   "mimetype": "text/x-python",
   "name": "python",
   "nbconvert_exporter": "python",
   "pygments_lexer": "ipython3",
   "version": "3.5.2"
  }
 },
 "nbformat": 4,
 "nbformat_minor": 0
}
