{
 "cells": [
  {
   "cell_type": "code",
   "execution_count": 1,
   "metadata": {
    "collapsed": false
   },
   "outputs": [
    {
     "name": "stdout",
     "output_type": "stream",
     "text": [
      "Using matplotlib backend: MacOSX\n",
      "Populating the interactive namespace from numpy and matplotlib\n",
      "2016-09-13T20:09:04\n",
      "\n",
      "CPython 3.5.2\n",
      "IPython 5.0.0\n",
      "\n",
      "compiler   : GCC 4.2.1 Compatible Apple LLVM 4.2 (clang-425.0.28)\n",
      "system     : Darwin\n",
      "release    : 15.6.0\n",
      "machine    : x86_64\n",
      "processor  : i386\n",
      "CPU cores  : 8\n",
      "interpreter: 64bit\n"
     ]
    }
   ],
   "source": [
    "%pylab\n",
    "%load_ext watermark\n",
    "%watermark"
   ]
  },
  {
   "cell_type": "markdown",
   "metadata": {},
   "source": [
    "### 유닛, 게이트 코드"
   ]
  },
  {
   "cell_type": "markdown",
   "metadata": {},
   "source": [
    "1장에서 사용했던 코드를 이용합니다."
   ]
  },
  {
   "cell_type": "code",
   "execution_count": 2,
   "metadata": {
    "collapsed": true
   },
   "outputs": [],
   "source": [
    "class Unit(object):\n",
    "    \n",
    "    def __init__(self, value, grad):\n",
    "        # 정방향에서 계산되는 값\n",
    "        self.value = value\n",
    "        # 역방향일 때 계산되는 이 유닛에 대한 회로 출력의 변화율\n",
    "        self.grad = grad\n",
    "\n",
    "        \n",
    "class MultiplyGate(object):\n",
    "    \n",
    "    def forward(self, u0, u1):\n",
    "        self.u0 = u0\n",
    "        self.u1 = u1\n",
    "        self.utop = Unit(self.u0.value * self.u1.value, 0.0)\n",
    "        return self.utop\n",
    "    \n",
    "    def backward(self):\n",
    "        # 출력 유닛의 기울기를 받아 곱셉 게이트의 자체 기울기와 곱하여(체인 룰) 입력 유닛의 기울기로 저장합니다.\n",
    "        self.u0.grad += self.u1.value * self.utop.grad\n",
    "        self.u1.grad += self.u0.value * self.utop.grad\n",
    "        \n",
    "        \n",
    "class AddGate(object):\n",
    "    \n",
    "    def forward(self, u0, u1):\n",
    "        self.u0 = u0\n",
    "        self.u1 = u1\n",
    "        self.utop = Unit(self.u0.value + self.u1.value, 0.0)\n",
    "        return self.utop\n",
    "\n",
    "    def backward(self):\n",
    "        # 입력에 대한 덧셈 게이트의 기울기는 1 입니다\n",
    "        self.u0.grad += 1 * self.utop.grad\n",
    "        self.u1.grad += 1 * self.utop.grad"
   ]
  },
  {
   "cell_type": "markdown",
   "metadata": {},
   "source": [
    "#### SVM 을 위한 회로 코드"
   ]
  },
  {
   "cell_type": "markdown",
   "metadata": {},
   "source": [
    "회로: 다섯 개의 유닛 (x,y,a,b,c) 을 입력 받고 하나의 유닛을 출력합니다. 그리고 입력에 대한 기울기를 계산합니다"
   ]
  },
  {
   "cell_type": "code",
   "execution_count": 3,
   "metadata": {
    "collapsed": false
   },
   "outputs": [],
   "source": [
    "class Circuit(object):\n",
    "    \n",
    "    def __init__(self):\n",
    "        # 게이트 생성\n",
    "        self.mulg0 = MultiplyGate()\n",
    "        self.mulg1 = MultiplyGate()\n",
    "        self.addg0 = AddGate()\n",
    "        self.addg1 = AddGate()\n",
    "\n",
    "    def forward(self, x, y, a, b, c):\n",
    "        self.ax = self.mulg0.forward(a, x) # a*x\n",
    "        self.by = self.mulg1.forward(b, y) # b*y\n",
    "        self.axpby = self.addg0.forward(self.ax, self.by) # a*x + b*y\n",
    "        self.axpbypc = self.addg1.forward(self.axpby, c)  # a*x + b*y + c\n",
    "        return self.axpbypc\n",
    "\n",
    "    def backward(self, gradient_top): # 상위 게이트로 부터 기울기를 전달 받음\n",
    "        self.axpbypc.grad = gradient_top\n",
    "        self.addg1.backward() # axpby 와 c 에 기울기 적용\n",
    "        self.addg0.backward() # ax 와 by 에 기울기 적용\n",
    "        self.mulg1.backward() # b 와 y 에 기울기 적용\n",
    "        self.mulg0.backward() # a 와 x 에 기울기 적용"
   ]
  },
  {
   "cell_type": "markdown",
   "metadata": {},
   "source": [
    "#### SVM 클래스"
   ]
  },
  {
   "cell_type": "code",
   "execution_count": 4,
   "metadata": {
    "collapsed": false
   },
   "outputs": [],
   "source": [
    "class Svm(object):\n",
    "  \n",
    "    def __init__(self):\n",
    "        # 파라메타를 랜덤하게 초기화\n",
    "        self.a = Unit(1.0, 0.0) \n",
    "        self.b = Unit(-2.0, 0.0)\n",
    "        self.c = Unit(-1.0, 0.0)\n",
    "\n",
    "        self.circuit = Circuit()\n",
    "\n",
    "    def forward(self, x, y): # x 와 y 는 유닛 객체라 가정합니다\n",
    "        self.unit_out = self.circuit.forward(x, y, self.a, self.b, self.c)\n",
    "        return self.unit_out\n",
    "  \n",
    "    def backward(self, label): # 레이블은 +1 또는 -1\n",
    "        # a,b,c 의 기울기 초기화\n",
    "        self.a.grad = 0.0\n",
    "        self.b.grad = 0.0 \n",
    "        self.c.grad = 0.0\n",
    "\n",
    "        # 회로의 출력에 따라 당겨야 할 힘(기울기)을 계산합니다\n",
    "        pull = 0.0\n",
    "        if label == 1 and self.unit_out.value < 1:\n",
    "            pull = 1 # 스코어가 너무 낮네요. 증가시켜야 합니다.\n",
    "\n",
    "        if label == -1 and self.unit_out.value > -1:\n",
    "            pull = -1 # 스코어가 너무 높네요. 감소시켜야 합니다.\n",
    "\n",
    "        self.circuit.backward(pull) # x,y,a,b,c 에 기울기를 적용합니다\n",
    "    \n",
    "        # 0의 방향으로 각 파라메타에 비례해서 정형화 힘을 추가합니다\n",
    "        self.a.grad += -self.a.value\n",
    "        self.b.grad += -self.b.value\n",
    "  \n",
    "    def learn_from(self, x, y, label):\n",
    "        self.forward(x, y) # 정방향 계산 (모든 유닛의 .value 속성을 채웁니다)\n",
    "        self.backward(label) # 역방향 계산 (모든 유닛의 .grad 속성을 채웁니다)\n",
    "        self.parameter_update() # 파라메타를 업데이트합니다\n",
    "  \n",
    "    def parameter_update(self):\n",
    "        step_size = 0.03 # 학습 속도를 높이기 위해 0.03 으로 셋팅합니다.\n",
    "        self.a.value += step_size * self.a.grad\n",
    "        self.b.value += step_size * self.b.grad\n",
    "        self.c.value += step_size * self.c.grad"
   ]
  },
  {
   "cell_type": "markdown",
   "metadata": {},
   "source": [
    "#### 경사 하강법을 적용합니다."
   ]
  },
  {
   "cell_type": "markdown",
   "metadata": {},
   "source": [
    "데이터 준비"
   ]
  },
  {
   "cell_type": "code",
   "execution_count": 5,
   "metadata": {
    "collapsed": false
   },
   "outputs": [],
   "source": [
    "data = []\n",
    "labels = []\n",
    "data.append([1.2, 0.7])\n",
    "labels.append(1)\n",
    "data.append([-0.3, -0.5])\n",
    "labels.append(-1)\n",
    "data.append([3.0, 0.1])\n",
    "labels.append(1)\n",
    "data.append([-0.1, -1.0])\n",
    "labels.append(-1)\n",
    "data.append([-1.0, 1.1])\n",
    "labels.append(-1)\n",
    "data.append([2.1, -3])\n",
    "labels.append(1)"
   ]
  },
  {
   "cell_type": "markdown",
   "metadata": {},
   "source": [
    "분류의 정확도를 계산하기 위한 함수"
   ]
  },
  {
   "cell_type": "code",
   "execution_count": 6,
   "metadata": {
    "collapsed": false
   },
   "outputs": [],
   "source": [
    "def eval_training_accuracy():\n",
    "    num_correct = 0;\n",
    "    for i in range(len(data)):\n",
    "        x = Unit(data[i][0], 0.0)\n",
    "        y = Unit(data[i][1], 0.0)\n",
    "        true_label = labels[i]\n",
    "\n",
    "        # 예측과 레이블이 맞는지 검사\n",
    "        unit_out = svm.forward(x, y)\n",
    "        predicted_label = 1 if unit_out.value > 0 else -1;\n",
    "        if predicted_label == true_label:\n",
    "            num_correct += 1\n",
    "\n",
    "    return num_correct / len(data);"
   ]
  },
  {
   "cell_type": "markdown",
   "metadata": {},
   "source": [
    "학습 루프"
   ]
  },
  {
   "cell_type": "code",
   "execution_count": 7,
   "metadata": {
    "collapsed": false
   },
   "outputs": [
    {
     "name": "stdout",
     "output_type": "stream",
     "text": [
      "training accuracy at iter 0: 0.666667\n",
      "training accuracy at iter 25: 0.833333\n",
      "training accuracy at iter 50: 0.833333\n",
      "training accuracy at iter 75: 0.833333\n",
      "training accuracy at iter 100: 0.833333\n",
      "training accuracy at iter 125: 0.833333\n",
      "training accuracy at iter 150: 0.833333\n",
      "training accuracy at iter 175: 0.833333\n",
      "training accuracy at iter 200: 1.000000\n",
      "training accuracy at iter 225: 0.833333\n",
      "training accuracy at iter 250: 1.000000\n",
      "training accuracy at iter 275: 0.833333\n",
      "training accuracy at iter 300: 1.000000\n",
      "training accuracy at iter 325: 1.000000\n",
      "training accuracy at iter 350: 1.000000\n",
      "training accuracy at iter 375: 1.000000\n"
     ]
    }
   ],
   "source": [
    "svm = Svm()\n",
    "for iter in range(400):\n",
    "    # 임의의 데이터 포인트 추출\n",
    "    i = int(np.floor(np.random.random() * len(data)))\n",
    "    x = Unit(data[i][0], 0.0)\n",
    "    y = Unit(data[i][1], 0.0)\n",
    "    label = labels[i]\n",
    "    svm.learn_from(x, y, label)\n",
    "\n",
    "    if iter % 25 == 0: # 매 25번 반복마다...\n",
    "        print('training accuracy at iter %d: %f' % (iter, eval_training_accuracy()))"
   ]
  },
  {
   "cell_type": "code",
   "execution_count": null,
   "metadata": {
    "collapsed": true
   },
   "outputs": [],
   "source": []
  }
 ],
 "metadata": {
  "kernelspec": {
   "display_name": "Python 2",
   "language": "python",
   "name": "python2"
  },
  "language_info": {
   "codemirror_mode": {
    "name": "ipython",
    "version": 2
   },
   "file_extension": ".py",
   "mimetype": "text/x-python",
   "name": "python",
   "nbconvert_exporter": "python",
   "pygments_lexer": "ipython2",
   "version": "2.7.6"
  }
 },
 "nbformat": 4,
 "nbformat_minor": 0
}
