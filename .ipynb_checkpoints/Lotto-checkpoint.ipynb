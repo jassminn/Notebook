{
 "cells": [
  {
   "cell_type": "code",
   "execution_count": 10,
   "metadata": {
    "collapsed": false
   },
   "outputs": [],
   "source": [
    "import tensorflow as tf\n",
    "\n",
    "data_num = 5\n",
    "NUM_CLASSES = 6\n",
    "NUM_HIDDEN1 = 45\n",
    "NUM_HIDDEN2 = 6\n",
    "LOG_DIR = '/root/log'\n",
    "stddev = 4.5\n",
    "bach_size = 6\n",
    "def inference(x_ph, keep_prob):\n",
    "\n",
    "    with tf.name_scope('hidden1'):\n",
    "        weights = tf.Variable(tf.truncated_normal([data_num * NUM_CLASSES, NUM_HIDDEN1], stddev=stddev), name='weights')\n",
    "        biases = tf.Variable(tf.zeros([NUM_HIDDEN1]), name='biases')\n",
    "        hidden1 = tf.nn.relu(tf.matmul(x_ph, weights) + biases)\n",
    "\n",
    "    with tf.name_scope('hidden2'):\n",
    "        weights = tf.Variable(tf.truncated_normal([NUM_HIDDEN1, NUM_HIDDEN2], stddev=stddev), name='weights')\n",
    "        biases = tf.Variable(tf.zeros([NUM_HIDDEN2]), name='biases')\n",
    "        hidden2 = tf.nn.relu(tf.matmul(hidden1, weights) + biases)\n",
    "\n",
    "    # DropOut\n",
    "    dropout = tf.nn.dropout(hidden2, keep_prob)\n",
    "\n",
    "    with tf.name_scope('softmax'):\n",
    "        weights = tf.Variable(tf.truncated_normal([NUM_HIDDEN2, NUM_CLASSES], stddev=stddev), name='weights')\n",
    "        biases = tf.Variable(tf.zeros([NUM_CLASSES]), name='biases')\n",
    "        y = tf.nn.softmax(tf.matmul(dropout, weights) + biases)\n",
    "\n",
    "    return y\n",
    "\n",
    "def loss(y, target):\n",
    "\n",
    "    softmax_target = tf.nn.softmax(target)\n",
    "    cross_entropy = tf.nn.softmax_cross_entropy_with_logits(y, softmax_target, name='xentropy')\n",
    "    loss = tf.reduce_mean(cross_entropy, name='xentropy_mean')\n",
    "\n",
    "    return loss\n",
    "\n",
    "def training(sess, train_step, loss, x_train_array, y_train_array):\n",
    "\n",
    "    summary_op = tf.merge_all_summaries()\n",
    "\n",
    "    init = tf.initialize_all_variables()\n",
    "    sess.run(init)\n",
    "\n",
    "    summary_writer = tf.train.SummaryWriter(LOG_DIR, graph_def=sess.graph_def)\n",
    "\n",
    "    for i in range(int(len(x_train_array) / bach_size)):\n",
    "        batch_xs = getBachArray(x_train_array, i * bach_size, bach_size)\n",
    "        batch_ys = getBachArray(y_train_array, i * bach_size, bach_size)\n",
    "        sess.run(train_step, feed_dict={x_ph: batch_xs, y_ph: batch_ys, keep_prob: 0.8})\n",
    "        ce = sess.run(loss, feed_dict={x_ph: batch_xs, y_ph: batch_ys, keep_prob: 1.0})\n",
    "\n",
    "        summary_str = sess.run(summary_op, feed_dict={x_ph: batch_xs, y_ph: batch_ys, keep_prob: 1.0})\n",
    "        summary_writer.add_summary(summary_str, i)\n",
    "        \n",
    "sess = tf.Session()\n",
    "_x_train_array = [[01.0,19.0,21.0,30.0,31.0,43.0],[03.0,07.0,16.0,26.0,34.0,39.0],[21.0,29.0,30.0,32.0,38.0,42.0],\n",
    "                  [04.0,10.0,11.0,12.0,18.0,25.0],[14.0,22.0,27.0,29.0,33.0,37.0]]\n",
    "_x_ph = tf.placeholder(\"float\",[None, data_num * NUM_CLASSES])\n",
    "_y = inference(_x_ph,0.7)\n",
    "_loss = loss(_y,_x_train_array)\n",
    "training(sess, None, _loss, _x_train_array, _x_train_array)\n"
   ]
  },
  {
   "cell_type": "code",
   "execution_count": null,
   "metadata": {
    "collapsed": true
   },
   "outputs": [],
   "source": []
  }
 ],
 "metadata": {
  "kernelspec": {
   "display_name": "Python 2",
   "language": "python",
   "name": "python2"
  },
  "language_info": {
   "codemirror_mode": {
    "name": "ipython",
    "version": 2
   },
   "file_extension": ".py",
   "mimetype": "text/x-python",
   "name": "python",
   "nbconvert_exporter": "python",
   "pygments_lexer": "ipython2",
   "version": "2.7.6"
  }
 },
 "nbformat": 4,
 "nbformat_minor": 2
}
