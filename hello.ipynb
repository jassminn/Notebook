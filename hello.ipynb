{
 "cells": [
  {
   "cell_type": "code",
   "execution_count": null,
   "metadata": {
    "collapsed": true
   },
   "outputs": [],
   "source": [
    "#!/usr/bin/python\n",
    "\n",
    "print \"Content-type:text/html\\r\\n\\r\\n\"\n",
    "print '<html>'\n",
    "print '<head>'\n",
    "print '<title>Hello Word - First CGI Program</title>'\n",
    "print '</head>'\n",
    "print '<body>'\n",
    "print '<h2>Hello Word! This is my first CGI program</h2>'\n",
    "print '</body>'\n",
    "print '</html>'"
   ]
  }
 ],
 "metadata": {
  "kernelspec": {
   "display_name": "Python 2",
   "language": "python",
   "name": "python2"
  },
  "language_info": {
   "codemirror_mode": {
    "name": "ipython",
    "version": 2
   },
   "file_extension": ".py",
   "mimetype": "text/x-python",
   "name": "python",
   "nbconvert_exporter": "python",
   "pygments_lexer": "ipython2",
   "version": "2.7.6"
  }
 },
 "nbformat": 4,
 "nbformat_minor": 2
}
