{
 "cells": [
  {
   "cell_type": "code",
   "execution_count": 1,
   "metadata": {
    "collapsed": false
   },
   "outputs": [],
   "source": [
    "import tensorflow as tf\n",
    "\n",
    "graph = tf.get_default_graph()\n",
    "\n",
    "x = tf.constant(1.0, name='x')\n",
    "w = tf.Variable(0.8, name='w')\n",
    "y = tf.mul(w, x, name='y')\n",
    "\n",
    "#ops = graph.get_operations()\n",
    "\n",
    "sess = tf.Session()\n",
    "\n",
    "init = tf.initialize_all_variables()\n",
    "sess.run(init)\n",
    "\n",
    "y_ = tf.constant(0.0)\n",
    "loss = (y - y_)**2\n",
    "\n",
    "optim = tf.train.GradientDescentOptimizer(learning_rate=0.025)\n",
    "grads_and_vars = optim.compute_gradients(loss)\n",
    "\n",
    "#sess.run(grads_and_vars[1][0])\n",
    "\n",
    "train_step = tf.train.GradientDescentOptimizer(0.025).minimize(loss)\n",
    "summary_y = tf.scalar_summary('output', y)\n",
    "summary_writer = tf.train.SummaryWriter('/root/tensorboard', graph_def=sess.graph_def)\n",
    "for i in range(100):\n",
    "    summary_str = sess.run(summary_y)\n",
    "    summary_writer.add_summary(summary_str, i)\n",
    "    sess.run(train_step)\n",
    "    \n",
    "\n",
    "\n",
    "\n"
   ]
  },
  {
   "cell_type": "code",
   "execution_count": null,
   "metadata": {
    "collapsed": true
   },
   "outputs": [],
   "source": []
  }
 ],
 "metadata": {
  "kernelspec": {
   "display_name": "Python 2",
   "language": "python",
   "name": "python2"
  },
  "language_info": {
   "codemirror_mode": {
    "name": "ipython",
    "version": 2
   },
   "file_extension": ".py",
   "mimetype": "text/x-python",
   "name": "python",
   "nbconvert_exporter": "python",
   "pygments_lexer": "ipython2",
   "version": "2.7.6"
  }
 },
 "nbformat": 4,
 "nbformat_minor": 0
}
