{
 "cells": [
  {
   "cell_type": "code",
   "execution_count": null,
   "metadata": {
    "collapsed": false
   },
   "outputs": [
    {
     "name": "stdout",
     "output_type": "stream",
     "text": [
      "Thread-1: Fri Jan  6 06:40:49 2017\n",
      "Thread-2: Fri Jan  6 06:40:51 2017\n",
      "Thread-1: Fri Jan  6 06:40:51 2017\n",
      "Thread-1: Fri Jan  6 06:40:53 2017\n",
      "Thread-2: Fri Jan  6 06:40:55 2017\n",
      "Thread-1: Fri Jan  6 06:40:55 2017\n",
      "Thread-1: Fri Jan  6 06:40:57 2017\n",
      "Thread-2: Fri Jan  6 06:40:59 2017\n",
      "Thread-2: Fri Jan  6 06:41:03 2017\n",
      "Thread-2: Fri Jan  6 06:41:07 2017\n"
     ]
    }
   ],
   "source": [
    "#!/usr/bin/python\n",
    "\n",
    "import thread\n",
    "import time\n",
    "\n",
    "# Define a function for the thread\n",
    "def print_time( threadName, delay):\n",
    "   count = 0\n",
    "   while count < 5:\n",
    "      time.sleep(delay)\n",
    "      count += 1\n",
    "      print \"%s: %s\" % ( threadName, time.ctime(time.time()) )\n",
    "\n",
    "# Create two threads as follows\n",
    "try:\n",
    "   thread.start_new_thread( print_time, (\"Thread-1\", 2, ) )\n",
    "   thread.start_new_thread( print_time, (\"Thread-2\", 4, ) )\n",
    "except:\n",
    "   print \"Error: unable to start thread\"\n",
    "\n",
    "while 1:\n",
    "   pass"
   ]
  },
  {
   "cell_type": "code",
   "execution_count": null,
   "metadata": {
    "collapsed": true
   },
   "outputs": [],
   "source": []
  }
 ],
 "metadata": {
  "kernelspec": {
   "display_name": "Python 2",
   "language": "python",
   "name": "python2"
  },
  "language_info": {
   "codemirror_mode": {
    "name": "ipython",
    "version": 2
   },
   "file_extension": ".py",
   "mimetype": "text/x-python",
   "name": "python",
   "nbconvert_exporter": "python",
   "pygments_lexer": "ipython2",
   "version": "2.7.6"
  }
 },
 "nbformat": 4,
 "nbformat_minor": 2
}
