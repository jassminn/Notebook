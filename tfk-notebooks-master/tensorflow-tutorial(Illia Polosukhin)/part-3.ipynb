{
 "cells": [
  {
   "cell_type": "markdown",
   "metadata": {},
   "source": [
    "### 필요한 패키지와 타이타닉 데이터 로드 하기"
   ]
  },
  {
   "cell_type": "code",
   "execution_count": 1,
   "metadata": {
    "collapsed": true
   },
   "outputs": [],
   "source": [
    "import random\n",
    "import pandas\n",
    "import numpy as np\n",
    "import tensorflow as tf\n",
    "from sklearn import metrics, cross_validation\n",
    "from tensorflow.contrib import skflow"
   ]
  },
  {
   "cell_type": "code",
   "execution_count": 2,
   "metadata": {
    "collapsed": true
   },
   "outputs": [],
   "source": [
    "random.seed(42)"
   ]
  },
  {
   "cell_type": "code",
   "execution_count": 3,
   "metadata": {
    "collapsed": true
   },
   "outputs": [],
   "source": [
    "data = pandas.read_csv('data/titanic_train.csv')"
   ]
  },
  {
   "cell_type": "code",
   "execution_count": 4,
   "metadata": {
    "collapsed": true
   },
   "outputs": [],
   "source": [
    "X = data[[\"Embarked\"]]"
   ]
  },
  {
   "cell_type": "code",
   "execution_count": 5,
   "metadata": {
    "collapsed": true
   },
   "outputs": [],
   "source": [
    "y = data[[\"Survived\"]]"
   ]
  },
  {
   "cell_type": "code",
   "execution_count": 6,
   "metadata": {
    "collapsed": true
   },
   "outputs": [],
   "source": [
    "X_train, X_test, y_train, y_test = cross_validation.train_test_split(X, y, test_size=0.2, random_state=42)"
   ]
  },
  {
   "cell_type": "code",
   "execution_count": 7,
   "metadata": {
    "collapsed": true
   },
   "outputs": [],
   "source": [
    "embarked_classes = X_train[\"Embarked\"].unique()"
   ]
  },
  {
   "cell_type": "code",
   "execution_count": 8,
   "metadata": {
    "collapsed": false
   },
   "outputs": [
    {
     "name": "stdout",
     "output_type": "stream",
     "text": [
      "Embarked has next classes:  ['S' 'C' 'Q' nan]\n"
     ]
    }
   ],
   "source": [
    "print('Embarked has next classes: ', embarked_classes)"
   ]
  },
  {
   "cell_type": "code",
   "execution_count": 9,
   "metadata": {
    "collapsed": true
   },
   "outputs": [],
   "source": [
    "cat_processor = skflow.preprocessing.CategoricalProcessor()"
   ]
  },
  {
   "cell_type": "code",
   "execution_count": 10,
   "metadata": {
    "collapsed": true
   },
   "outputs": [],
   "source": [
    "X_train = np.array(list(cat_processor.fit_transform(X_train)))"
   ]
  },
  {
   "cell_type": "code",
   "execution_count": 11,
   "metadata": {
    "collapsed": true
   },
   "outputs": [],
   "source": [
    "X_test = np.array(list(cat_processor.fit_transform(X_test)))"
   ]
  },
  {
   "cell_type": "markdown",
   "metadata": {},
   "source": [
    "Categorical Processor로 부터 변수에 대한 클래스의 총 갯수. 변수의 고유한 클래스와 미지정 값도 포함됨."
   ]
  },
  {
   "cell_type": "code",
   "execution_count": 12,
   "metadata": {
    "collapsed": true
   },
   "outputs": [],
   "source": [
    "n_classes = len(cat_processor.vocabularies_[0])"
   ]
  },
  {
   "cell_type": "markdown",
   "metadata": {},
   "source": [
    "### Embedding"
   ]
  },
  {
   "cell_type": "code",
   "execution_count": 13,
   "metadata": {
    "collapsed": true
   },
   "outputs": [],
   "source": [
    "EMBEDDING_SIZE = 3"
   ]
  },
  {
   "cell_type": "code",
   "execution_count": 14,
   "metadata": {
    "collapsed": true
   },
   "outputs": [],
   "source": [
    "def categorical_model(X, y):\n",
    "    features = skflow.ops.categorical_variable(\n",
    "        X, n_classes, embedding_size=EMBEDDING_SIZE, name='embarked')\n",
    "    return skflow.models.logistic_regression(tf.squeeze(features, [1]), y)"
   ]
  },
  {
   "cell_type": "code",
   "execution_count": 15,
   "metadata": {
    "collapsed": true
   },
   "outputs": [],
   "source": [
    "classifier = skflow.TensorFlowEstimator(model_fn=categorical_model, n_classes=2)"
   ]
  },
  {
   "cell_type": "code",
   "execution_count": 16,
   "metadata": {
    "collapsed": false,
    "scrolled": false
   },
   "outputs": [
    {
     "name": "stdout",
     "output_type": "stream",
     "text": [
      "Step #100, epoch #4, avg. train loss: 0.65760\n",
      "Step #200, epoch #8, avg. train loss: 0.65196\n"
     ]
    },
    {
     "data": {
      "text/plain": [
       "TensorFlowEstimator(batch_size=32, class_weight=None, clip_gradients=5.0,\n",
       "          config=None, continue_training=False, learning_rate=0.1,\n",
       "          model_fn=<function categorical_model at 0x1127420d0>,\n",
       "          n_classes=2, optimizer='Adagrad', steps=200, verbose=1)"
      ]
     },
     "execution_count": 16,
     "metadata": {},
     "output_type": "execute_result"
    }
   ],
   "source": [
    "classifier.fit(X_train, y_train['Survived'])"
   ]
  },
  {
   "cell_type": "code",
   "execution_count": 17,
   "metadata": {
    "collapsed": false
   },
   "outputs": [
    {
     "name": "stdout",
     "output_type": "stream",
     "text": [
      "Accuracy: 0.6256983240223464\n"
     ]
    }
   ],
   "source": [
    "print(\"Accuracy: {0}\".format(metrics.accuracy_score(classifier.predict(X_test), y_test)))"
   ]
  },
  {
   "cell_type": "code",
   "execution_count": 18,
   "metadata": {
    "collapsed": false
   },
   "outputs": [
    {
     "name": "stdout",
     "output_type": "stream",
     "text": [
      "ROC: 0.6105506155950753\n"
     ]
    }
   ],
   "source": [
    "print(\"ROC: {0}\".format(metrics.roc_auc_score(classifier.predict(X_test), y_test)))"
   ]
  },
  {
   "cell_type": "markdown",
   "metadata": {},
   "source": [
    "### One Hot"
   ]
  },
  {
   "cell_type": "code",
   "execution_count": 19,
   "metadata": {
    "collapsed": true
   },
   "outputs": [],
   "source": [
    "def one_hot_categorical_model(X, y):\n",
    "    features = skflow.ops.one_hot_matrix(X, n_classes)\n",
    "    return skflow.models.logistic_regression(tf.squeeze(features, [1]), y)"
   ]
  },
  {
   "cell_type": "code",
   "execution_count": 20,
   "metadata": {
    "collapsed": true
   },
   "outputs": [],
   "source": [
    "classifier = skflow.TensorFlowEstimator(model_fn=one_hot_categorical_model,\n",
    "                                       n_classes=2, steps=1000, learning_rate=0.01)"
   ]
  },
  {
   "cell_type": "code",
   "execution_count": 21,
   "metadata": {
    "collapsed": false
   },
   "outputs": [
    {
     "name": "stdout",
     "output_type": "stream",
     "text": [
      "Step #100, epoch #4, avg. train loss: 0.84168\n",
      "Step #200, epoch #8, avg. train loss: 0.75244\n",
      "Step #300, epoch #13, avg. train loss: 0.72017\n",
      "Step #400, epoch #17, avg. train loss: 0.69646\n",
      "Step #500, epoch #21, avg. train loss: 0.68045\n",
      "Step #600, epoch #26, avg. train loss: 0.67679\n",
      "Step #700, epoch #30, avg. train loss: 0.67083\n",
      "Step #800, epoch #34, avg. train loss: 0.66649\n",
      "Step #900, epoch #39, avg. train loss: 0.66256\n",
      "Step #1000, epoch #43, avg. train loss: 0.66194\n"
     ]
    },
    {
     "data": {
      "text/plain": [
       "TensorFlowEstimator(batch_size=32, class_weight=None, clip_gradients=5.0,\n",
       "          config=None, continue_training=False, learning_rate=0.01,\n",
       "          model_fn=<function one_hot_categorical_model at 0x1129a6158>,\n",
       "          n_classes=2, optimizer='Adagrad', steps=1000, verbose=1)"
      ]
     },
     "execution_count": 21,
     "metadata": {},
     "output_type": "execute_result"
    }
   ],
   "source": [
    "classifier.fit(X_train, y_train['Survived'])"
   ]
  },
  {
   "cell_type": "code",
   "execution_count": 22,
   "metadata": {
    "collapsed": false
   },
   "outputs": [
    {
     "name": "stdout",
     "output_type": "stream",
     "text": [
      "Accuracy: 0.6201117318435754\n"
     ]
    }
   ],
   "source": [
    "print(\"Accuracy: {0}\".format(metrics.accuracy_score(classifier.predict(X_test), y_test)))"
   ]
  },
  {
   "cell_type": "code",
   "execution_count": 23,
   "metadata": {
    "collapsed": false
   },
   "outputs": [
    {
     "name": "stdout",
     "output_type": "stream",
     "text": [
      "ROC: 0.6027310924369748\n"
     ]
    }
   ],
   "source": [
    "print(\"ROC: {0}\".format(metrics.roc_auc_score(classifier.predict(X_test), y_test)))"
   ]
  },
  {
   "cell_type": "code",
   "execution_count": null,
   "metadata": {
    "collapsed": true
   },
   "outputs": [],
   "source": []
  }
 ],
 "metadata": {
  "kernelspec": {
   "display_name": "Python 2",
   "language": "python",
   "name": "python2"
  },
  "language_info": {
   "codemirror_mode": {
    "name": "ipython",
    "version": 2
   },
   "file_extension": ".py",
   "mimetype": "text/x-python",
   "name": "python",
   "nbconvert_exporter": "python",
   "pygments_lexer": "ipython2",
   "version": "2.7.6"
  }
 },
 "nbformat": 4,
 "nbformat_minor": 0
}
